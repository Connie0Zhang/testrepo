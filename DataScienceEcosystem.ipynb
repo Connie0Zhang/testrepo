{
 "cells": [
  {
   "cell_type": "markdown",
   "id": "bb3ff127",
   "metadata": {},
   "source": [
    "# Data Science Tools and Ecosystem"
   ]
  },
  {
   "cell_type": "markdown",
   "id": "d3ade439",
   "metadata": {},
   "source": [
    "In this nootbook, Data Science Tools and Ecosystem are summerized."
   ]
  },
  {
   "cell_type": "markdown",
   "id": "cfdb24f6",
   "metadata": {},
   "source": [
    "## Auther \n",
    "Congyan Zhang"
   ]
  },
  {
   "cell_type": "markdown",
   "id": "b98c33e7",
   "metadata": {},
   "source": [
    "**Objectives:**\n",
    "* list popular languages for data science\n",
    "* list useful libraries\n",
    "* list data science tools\n"
   ]
  },
  {
   "cell_type": "markdown",
   "id": "35f5c4a9",
   "metadata": {},
   "source": [
    "Some of the popular languages that Data Scientists use are:\n",
    "1. Python\n",
    "1. Java\n",
    "1. C++"
   ]
  },
  {
   "cell_type": "markdown",
   "id": "eb11f32b",
   "metadata": {},
   "source": [
    "Some of the commonly used libraries used by Data Scientists include: \n",
    "   1. NumPy\n",
    "   1. Pandas\n",
    "   1. SciPy\n"
   ]
  },
  {
   "cell_type": "markdown",
   "id": "cc59fb72",
   "metadata": {},
   "source": [
    "|Data Science Tools|\n",
    "|----|\n",
    "|RStudio|\n",
    "|Apache Spark|\n",
    "|TenserFlow|\n",
    "\n"
   ]
  },
  {
   "cell_type": "markdown",
   "id": "2f19d1d2",
   "metadata": {},
   "source": [
    "### Below are a few examples of evaluating arithmetic expressions in Python."
   ]
  },
  {
   "cell_type": "code",
   "execution_count": 2,
   "id": "a14d150e",
   "metadata": {},
   "outputs": [
    {
     "data": {
      "text/plain": [
       "17"
      ]
     },
     "execution_count": 2,
     "metadata": {},
     "output_type": "execute_result"
    }
   ],
   "source": [
    "(3*4)+5"
   ]
  },
  {
   "cell_type": "code",
   "execution_count": 3,
   "id": "c3fe610f",
   "metadata": {},
   "outputs": [
    {
     "name": "stdout",
     "output_type": "stream",
     "text": [
      "3.3333333333333335\n"
     ]
    }
   ],
   "source": [
    "#This will convert 200 minutes to hours by diving by 60.\n",
    "mins=200\n",
    "hours=mins/60\n",
    "print(hours)"
   ]
  },
  {
   "cell_type": "code",
   "execution_count": null,
   "id": "30a4a407",
   "metadata": {},
   "outputs": [],
   "source": []
  }
 ],
 "metadata": {
  "kernelspec": {
   "display_name": "Python 3 (ipykernel)",
   "language": "python",
   "name": "python3"
  },
  "language_info": {
   "codemirror_mode": {
    "name": "ipython",
    "version": 3
   },
   "file_extension": ".py",
   "mimetype": "text/x-python",
   "name": "python",
   "nbconvert_exporter": "python",
   "pygments_lexer": "ipython3",
   "version": "3.11.5"
  }
 },
 "nbformat": 4,
 "nbformat_minor": 5
}
